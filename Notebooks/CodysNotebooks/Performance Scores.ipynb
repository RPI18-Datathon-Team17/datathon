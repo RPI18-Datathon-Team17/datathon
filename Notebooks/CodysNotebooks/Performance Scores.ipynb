{
 "cells": [
  {
   "cell_type": "code",
   "execution_count": 16,
   "metadata": {},
   "outputs": [],
   "source": [
    "import pandas as pd\n",
    "import matplotlib.pyplot as plt\n",
    "import seaborn as sns\n",
    "import numpy as np\n",
    "from scipy.stats import norm\n",
    "from sklearn.preprocessing import StandardScaler\n",
    "from scipy import stats\n",
    "import warnings\n",
    "warnings.filterwarnings('ignore')\n",
    "%matplotlib inline"
   ]
  },
  {
   "cell_type": "code",
   "execution_count": 27,
   "metadata": {},
   "outputs": [],
   "source": [
    "\n",
    "Physician = pd.read_csv('Performance_Scores.csv')\n",
    "Patient = pd.read_csv('Physician_Compare_2015_Group_Public_Reporting_-_Patient_Experience.csv')\n"
   ]
  },
  {
   "cell_type": "code",
   "execution_count": 18,
   "metadata": {},
   "outputs": [
    {
     "data": {
      "text/html": [
       "<div>\n",
       "<style>\n",
       "    .dataframe thead tr:only-child th {\n",
       "        text-align: right;\n",
       "    }\n",
       "\n",
       "    .dataframe thead th {\n",
       "        text-align: left;\n",
       "    }\n",
       "\n",
       "    .dataframe tbody tr th {\n",
       "        vertical-align: top;\n",
       "    }\n",
       "</style>\n",
       "<table border=\"1\" class=\"dataframe\">\n",
       "  <thead>\n",
       "    <tr style=\"text-align: right;\">\n",
       "      <th></th>\n",
       "      <th>Organization legal name or 'doing business as' name</th>\n",
       "      <th>Group PAC ID</th>\n",
       "      <th>State</th>\n",
       "      <th>Participating in PQRS</th>\n",
       "      <th>Measure Identifier</th>\n",
       "      <th>Measure Title</th>\n",
       "      <th>Inverse Measure</th>\n",
       "      <th>Measure Performance Rate</th>\n",
       "      <th>Footnote</th>\n",
       "      <th>Reporting Mechanism</th>\n",
       "      <th>Reported on PC Live Site</th>\n",
       "    </tr>\n",
       "  </thead>\n",
       "  <tbody>\n",
       "    <tr>\n",
       "      <th>0</th>\n",
       "      <td>GLEN BURNIE PHYSICAL THERAPY AND SPORTSCARE LLC</td>\n",
       "      <td>42102592</td>\n",
       "      <td>MD</td>\n",
       "      <td>NaN</td>\n",
       "      <td>PQRS_GRP_131_1</td>\n",
       "      <td>Pain Assessment and Follow-Up</td>\n",
       "      <td>N</td>\n",
       "      <td>99.0</td>\n",
       "      <td>NaN</td>\n",
       "      <td>REG</td>\n",
       "      <td>Y</td>\n",
       "    </tr>\n",
       "    <tr>\n",
       "      <th>1</th>\n",
       "      <td>GLEN BURNIE PHYSICAL THERAPY AND SPORTSCARE LLC</td>\n",
       "      <td>42102592</td>\n",
       "      <td>MD</td>\n",
       "      <td>NaN</td>\n",
       "      <td>PQRS_GRP_154_1</td>\n",
       "      <td>Falls: Risk Assessment</td>\n",
       "      <td>N</td>\n",
       "      <td>77.0</td>\n",
       "      <td>NaN</td>\n",
       "      <td>REG</td>\n",
       "      <td>Y</td>\n",
       "    </tr>\n",
       "    <tr>\n",
       "      <th>2</th>\n",
       "      <td>GLEN BURNIE PHYSICAL THERAPY AND SPORTSCARE LLC</td>\n",
       "      <td>42102592</td>\n",
       "      <td>MD</td>\n",
       "      <td>NaN</td>\n",
       "      <td>PQRS_GRP_155_1</td>\n",
       "      <td>Falls: Plan of Care</td>\n",
       "      <td>N</td>\n",
       "      <td>88.0</td>\n",
       "      <td>NaN</td>\n",
       "      <td>REG</td>\n",
       "      <td>Y</td>\n",
       "    </tr>\n",
       "    <tr>\n",
       "      <th>3</th>\n",
       "      <td>GLEN BURNIE PHYSICAL THERAPY AND SPORTSCARE LLC</td>\n",
       "      <td>42102592</td>\n",
       "      <td>MD</td>\n",
       "      <td>NaN</td>\n",
       "      <td>PQRS_GRP_182_1</td>\n",
       "      <td>Functional Outcome Assessment</td>\n",
       "      <td>N</td>\n",
       "      <td>100.0</td>\n",
       "      <td>NaN</td>\n",
       "      <td>REG</td>\n",
       "      <td>Y</td>\n",
       "    </tr>\n",
       "    <tr>\n",
       "      <th>4</th>\n",
       "      <td>HERITAGE VALLEY MEDICAL GROUP INC</td>\n",
       "      <td>42105678</td>\n",
       "      <td>PA</td>\n",
       "      <td>Y</td>\n",
       "      <td>PQRS_GRP_110_1</td>\n",
       "      <td>Preventive Care and Screening: Influenza Immun...</td>\n",
       "      <td>N</td>\n",
       "      <td>62.0</td>\n",
       "      <td>NaN</td>\n",
       "      <td>WI</td>\n",
       "      <td>Y</td>\n",
       "    </tr>\n",
       "  </tbody>\n",
       "</table>\n",
       "</div>"
      ],
      "text/plain": [
       "  Organization legal name or 'doing business as' name  Group PAC ID State  \\\n",
       "0    GLEN BURNIE PHYSICAL THERAPY AND SPORTSCARE LLC       42102592    MD   \n",
       "1    GLEN BURNIE PHYSICAL THERAPY AND SPORTSCARE LLC       42102592    MD   \n",
       "2    GLEN BURNIE PHYSICAL THERAPY AND SPORTSCARE LLC       42102592    MD   \n",
       "3    GLEN BURNIE PHYSICAL THERAPY AND SPORTSCARE LLC       42102592    MD   \n",
       "4                  HERITAGE VALLEY MEDICAL GROUP INC       42105678    PA   \n",
       "\n",
       "  Participating in PQRS Measure Identifier  \\\n",
       "0                   NaN     PQRS_GRP_131_1   \n",
       "1                   NaN     PQRS_GRP_154_1   \n",
       "2                   NaN     PQRS_GRP_155_1   \n",
       "3                   NaN     PQRS_GRP_182_1   \n",
       "4                     Y     PQRS_GRP_110_1   \n",
       "\n",
       "                                       Measure Title Inverse Measure  \\\n",
       "0                      Pain Assessment and Follow-Up               N   \n",
       "1                             Falls: Risk Assessment               N   \n",
       "2                                Falls: Plan of Care               N   \n",
       "3                      Functional Outcome Assessment               N   \n",
       "4  Preventive Care and Screening: Influenza Immun...               N   \n",
       "\n",
       "   Measure Performance Rate  Footnote Reporting Mechanism  \\\n",
       "0                      99.0       NaN                 REG   \n",
       "1                      77.0       NaN                 REG   \n",
       "2                      88.0       NaN                 REG   \n",
       "3                     100.0       NaN                 REG   \n",
       "4                      62.0       NaN                  WI   \n",
       "\n",
       "  Reported on PC Live Site  \n",
       "0                        Y  \n",
       "1                        Y  \n",
       "2                        Y  \n",
       "3                        Y  \n",
       "4                        Y  "
      ]
     },
     "execution_count": 18,
     "metadata": {},
     "output_type": "execute_result"
    }
   ],
   "source": [
    "Physician.head()"
   ]
  },
  {
   "cell_type": "code",
   "execution_count": 28,
   "metadata": {},
   "outputs": [],
   "source": [
    "df = pd.DataFrame(Physician)\n",
    "Patient = pd.DataFrame(Patient)"
   ]
  },
  {
   "cell_type": "code",
   "execution_count": 20,
   "metadata": {},
   "outputs": [
    {
     "data": {
      "text/plain": [
       "(11117, 11)"
      ]
     },
     "execution_count": 20,
     "metadata": {},
     "output_type": "execute_result"
    }
   ],
   "source": [
    "df.shape"
   ]
  },
  {
   "cell_type": "code",
   "execution_count": 21,
   "metadata": {},
   "outputs": [
    {
     "data": {
      "text/plain": [
       "count    10671.000000\n",
       "mean        70.656171\n",
       "std         31.392991\n",
       "min          0.000000\n",
       "25%         53.000000\n",
       "50%         82.000000\n",
       "75%         97.000000\n",
       "max        100.000000\n",
       "Name: Measure Performance Rate, dtype: float64"
      ]
     },
     "execution_count": 21,
     "metadata": {},
     "output_type": "execute_result"
    }
   ],
   "source": [
    "df['Measure Performance Rate'].describe()"
   ]
  },
  {
   "cell_type": "code",
   "execution_count": 24,
   "metadata": {},
   "outputs": [
    {
     "data": {
      "text/html": [
       "<div>\n",
       "<style>\n",
       "    .dataframe thead tr:only-child th {\n",
       "        text-align: right;\n",
       "    }\n",
       "\n",
       "    .dataframe thead th {\n",
       "        text-align: left;\n",
       "    }\n",
       "\n",
       "    .dataframe tbody tr th {\n",
       "        vertical-align: top;\n",
       "    }\n",
       "</style>\n",
       "<table border=\"1\" class=\"dataframe\">\n",
       "  <thead>\n",
       "    <tr style=\"text-align: right;\">\n",
       "      <th></th>\n",
       "      <th>Total</th>\n",
       "      <th>Percent</th>\n",
       "    </tr>\n",
       "  </thead>\n",
       "  <tbody>\n",
       "    <tr>\n",
       "      <th>Footnote</th>\n",
       "      <td>10671</td>\n",
       "      <td>1.000000</td>\n",
       "    </tr>\n",
       "    <tr>\n",
       "      <th>Participating in PQRS</th>\n",
       "      <td>390</td>\n",
       "      <td>0.036548</td>\n",
       "    </tr>\n",
       "    <tr>\n",
       "      <th>Reported on PC Live Site</th>\n",
       "      <td>0</td>\n",
       "      <td>0.000000</td>\n",
       "    </tr>\n",
       "    <tr>\n",
       "      <th>Reporting Mechanism</th>\n",
       "      <td>0</td>\n",
       "      <td>0.000000</td>\n",
       "    </tr>\n",
       "    <tr>\n",
       "      <th>Measure Performance Rate</th>\n",
       "      <td>0</td>\n",
       "      <td>0.000000</td>\n",
       "    </tr>\n",
       "    <tr>\n",
       "      <th>Inverse Measure</th>\n",
       "      <td>0</td>\n",
       "      <td>0.000000</td>\n",
       "    </tr>\n",
       "    <tr>\n",
       "      <th>Measure Title</th>\n",
       "      <td>0</td>\n",
       "      <td>0.000000</td>\n",
       "    </tr>\n",
       "    <tr>\n",
       "      <th>Measure Identifier</th>\n",
       "      <td>0</td>\n",
       "      <td>0.000000</td>\n",
       "    </tr>\n",
       "    <tr>\n",
       "      <th>State</th>\n",
       "      <td>0</td>\n",
       "      <td>0.000000</td>\n",
       "    </tr>\n",
       "    <tr>\n",
       "      <th>Group PAC ID</th>\n",
       "      <td>0</td>\n",
       "      <td>0.000000</td>\n",
       "    </tr>\n",
       "    <tr>\n",
       "      <th>Organization legal name or 'doing business as' name</th>\n",
       "      <td>0</td>\n",
       "      <td>0.000000</td>\n",
       "    </tr>\n",
       "  </tbody>\n",
       "</table>\n",
       "</div>"
      ],
      "text/plain": [
       "                                                    Total   Percent\n",
       "Footnote                                            10671  1.000000\n",
       "Participating in PQRS                                 390  0.036548\n",
       "Reported on PC Live Site                                0  0.000000\n",
       "Reporting Mechanism                                     0  0.000000\n",
       "Measure Performance Rate                                0  0.000000\n",
       "Inverse Measure                                         0  0.000000\n",
       "Measure Title                                           0  0.000000\n",
       "Measure Identifier                                      0  0.000000\n",
       "State                                                   0  0.000000\n",
       "Group PAC ID                                            0  0.000000\n",
       "Organization legal name or 'doing business as' ...      0  0.000000"
      ]
     },
     "execution_count": 24,
     "metadata": {},
     "output_type": "execute_result"
    }
   ],
   "source": [
    "total = df.isnull().sum().sort_values(ascending=False)\n",
    "percent = (df.isnull().sum()/df.isnull().count()).sort_values(ascending=False)\n",
    "missing_data = pd.concat([total, percent], axis=1, keys=['Total', 'Percent'])\n",
    "missing_data.head(20)"
   ]
  },
  {
   "cell_type": "code",
   "execution_count": 23,
   "metadata": {},
   "outputs": [],
   "source": [
    "df = df.dropna(subset=['Measure Performance Rate']) "
   ]
  },
  {
   "cell_type": "code",
   "execution_count": 26,
   "metadata": {},
   "outputs": [
    {
     "data": {
      "image/png": "[encoded data removed]",
      "text/plain": [
       "<matplotlib.figure.Figure at 0x1a0a9c44e0>"
      ]
     },
     "metadata": {},
     "output_type": "display_data"
    }
   ],
   "source": [
    "#Here we are making a distribution plot of measure performance rate by patient experience\n",
    "\n",
    "sns.distplot(df['Measure Performance Rate']);"
   ]
  },
  {
   "cell_type": "code",
   "execution_count": 41,
   "metadata": {},
   "outputs": [
    {
     "data": {
      "image/png": "[encoded data removed]",
      "text/plain": [
       "<matplotlib.figure.Figure at 0x1a0bf49358>"
      ]
     },
     "metadata": {},
     "output_type": "display_data"
    }
   ],
   "source": [
    "var = 'Measure Performance Rate'\n",
    "data = pd.concat([Patient['Measure Performance Rate'], df[var]], axis=1)\n",
    "data.plot.scatter(x=var, y='Measure Performance Rate', ylim=(0,100));"
   ]
  },
  {
   "cell_type": "code",
   "execution_count": null,
   "metadata": {},
   "outputs": [],
   "source": []
  }
 ],
 "metadata": {
  "kernelspec": {
   "display_name": "Python 3",
   "language": "python",
   "name": "python3"
  },
  "language_info": {
   "codemirror_mode": {
    "name": "ipython",
    "version": 3
   },
   "file_extension": ".py",
   "mimetype": "text/x-python",
   "name": "python",
   "nbconvert_exporter": "python",
   "pygments_lexer": "ipython3",
   "version": "3.6.3"
  }
 },
 "nbformat": 4,
 "nbformat_minor": 2
}
