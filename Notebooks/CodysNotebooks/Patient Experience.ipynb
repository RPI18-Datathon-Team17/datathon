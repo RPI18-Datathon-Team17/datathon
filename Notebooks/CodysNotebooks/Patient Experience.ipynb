{
 "cells": [
  {
   "cell_type": "code",
   "execution_count": 1,
   "metadata": {},
   "outputs": [],
   "source": [
    "import pandas as pd\n",
    "import matplotlib.pyplot as plt\n",
    "import seaborn as sns\n",
    "import numpy as np\n",
    "from scipy.stats import norm\n",
    "from sklearn.preprocessing import StandardScaler\n",
    "from scipy import stats\n",
    "import warnings\n",
    "warnings.filterwarnings('ignore')\n",
    "%matplotlib inline"
   ]
  },
  {
   "cell_type": "code",
   "execution_count": 5,
   "metadata": {},
   "outputs": [],
   "source": [
    "#This reading in the 2015 Group public reporting of patient experience of physicians all around the\n",
    "#country.\n",
    "\n",
    "Physician = pd.read_csv('Physician_Compare_2015_Group_Public_Reporting_-_Patient_Experience.csv')"
   ]
  },
  {
   "cell_type": "code",
   "execution_count": 6,
   "metadata": {},
   "outputs": [
    {
     "data": {
      "text/html": [
       "<div>\n",
       "<style>\n",
       "    .dataframe thead tr:only-child th {\n",
       "        text-align: right;\n",
       "    }\n",
       "\n",
       "    .dataframe thead th {\n",
       "        text-align: left;\n",
       "    }\n",
       "\n",
       "    .dataframe tbody tr th {\n",
       "        vertical-align: top;\n",
       "    }\n",
       "</style>\n",
       "<table border=\"1\" class=\"dataframe\">\n",
       "  <thead>\n",
       "    <tr style=\"text-align: right;\">\n",
       "      <th></th>\n",
       "      <th>Organization legal name or 'doing business as' name</th>\n",
       "      <th>Group PAC ID</th>\n",
       "      <th>State</th>\n",
       "      <th>Measure Identifier</th>\n",
       "      <th>Measure Title</th>\n",
       "      <th>Measure Performance Rate</th>\n",
       "      <th>Footnote</th>\n",
       "    </tr>\n",
       "  </thead>\n",
       "  <tbody>\n",
       "    <tr>\n",
       "      <th>0</th>\n",
       "      <td>HERITAGE VALLEY MEDICAL GROUP INC</td>\n",
       "      <td>42105678</td>\n",
       "      <td>PA</td>\n",
       "      <td>CAHPS_GRP_1</td>\n",
       "      <td>Getting timely care, appointments, and informa...</td>\n",
       "      <td>63.0</td>\n",
       "      <td>NaN</td>\n",
       "    </tr>\n",
       "    <tr>\n",
       "      <th>1</th>\n",
       "      <td>HERITAGE VALLEY MEDICAL GROUP INC</td>\n",
       "      <td>42105678</td>\n",
       "      <td>PA</td>\n",
       "      <td>CAHPS_GRP_10</td>\n",
       "      <td>Between visit communication.</td>\n",
       "      <td>49.0</td>\n",
       "      <td>NaN</td>\n",
       "    </tr>\n",
       "    <tr>\n",
       "      <th>2</th>\n",
       "      <td>HERITAGE VALLEY MEDICAL GROUP INC</td>\n",
       "      <td>42105678</td>\n",
       "      <td>PA</td>\n",
       "      <td>CAHPS_GRP_12</td>\n",
       "      <td>Attention to patient medication cost.</td>\n",
       "      <td>27.0</td>\n",
       "      <td>NaN</td>\n",
       "    </tr>\n",
       "    <tr>\n",
       "      <th>3</th>\n",
       "      <td>HERITAGE VALLEY MEDICAL GROUP INC</td>\n",
       "      <td>42105678</td>\n",
       "      <td>PA</td>\n",
       "      <td>CAHPS_GRP_2</td>\n",
       "      <td>How well clinicians communicate.</td>\n",
       "      <td>86.0</td>\n",
       "      <td>NaN</td>\n",
       "    </tr>\n",
       "    <tr>\n",
       "      <th>4</th>\n",
       "      <td>HERITAGE VALLEY MEDICAL GROUP INC</td>\n",
       "      <td>42105678</td>\n",
       "      <td>PA</td>\n",
       "      <td>CAHPS_GRP_3</td>\n",
       "      <td>Patients' rating of clinicians.</td>\n",
       "      <td>83.0</td>\n",
       "      <td>NaN</td>\n",
       "    </tr>\n",
       "  </tbody>\n",
       "</table>\n",
       "</div>"
      ],
      "text/plain": [
       "  Organization legal name or 'doing business as' name  Group PAC ID  State  \\\n",
       "0                  HERITAGE VALLEY MEDICAL GROUP INC       42105678     PA   \n",
       "1                  HERITAGE VALLEY MEDICAL GROUP INC       42105678     PA   \n",
       "2                  HERITAGE VALLEY MEDICAL GROUP INC       42105678     PA   \n",
       "3                  HERITAGE VALLEY MEDICAL GROUP INC       42105678     PA   \n",
       "4                  HERITAGE VALLEY MEDICAL GROUP INC       42105678     PA   \n",
       "\n",
       "  Measure Identifier                                      Measure Title  \\\n",
       "0        CAHPS_GRP_1  Getting timely care, appointments, and informa...   \n",
       "1       CAHPS_GRP_10                       Between visit communication.   \n",
       "2       CAHPS_GRP_12              Attention to patient medication cost.   \n",
       "3        CAHPS_GRP_2                   How well clinicians communicate.   \n",
       "4        CAHPS_GRP_3                    Patients' rating of clinicians.   \n",
       "\n",
       "   Measure Performance Rate  Footnote  \n",
       "0                      63.0       NaN  \n",
       "1                      49.0       NaN  \n",
       "2                      27.0       NaN  \n",
       "3                      86.0       NaN  \n",
       "4                      83.0       NaN  "
      ]
     },
     "execution_count": 6,
     "metadata": {},
     "output_type": "execute_result"
    }
   ],
   "source": [
    "Physician.head()"
   ]
  },
  {
   "cell_type": "code",
   "execution_count": 7,
   "metadata": {},
   "outputs": [],
   "source": [
    "#We are creating a dataframe out of our csv\n",
    "\n",
    "df = pd.DataFrame(Physician)"
   ]
  },
  {
   "cell_type": "code",
   "execution_count": 8,
   "metadata": {},
   "outputs": [
    {
     "data": {
      "text/plain": [
       "(3432, 7)"
      ]
     },
     "execution_count": 8,
     "metadata": {},
     "output_type": "execute_result"
    }
   ],
   "source": [
    "#This is showing how many rows and columns there are in this dataframe respectively\n",
    "\n",
    "df.shape"
   ]
  },
  {
   "cell_type": "code",
   "execution_count": 9,
   "metadata": {},
   "outputs": [
    {
     "data": {
      "text/plain": [
       "count    3121.000000\n",
       "mean       65.215956\n",
       "std        18.519778\n",
       "min         6.000000\n",
       "25%        57.000000\n",
       "50%        69.000000\n",
       "75%        80.000000\n",
       "max        95.000000\n",
       "Name: Measure Performance Rate, dtype: float64"
      ]
     },
     "execution_count": 9,
     "metadata": {},
     "output_type": "execute_result"
    }
   ],
   "source": [
    "#This is counting how many performance rate samples there are, the mean, standard deviation,\n",
    "#max, and min amount for performance rate\n",
    "\n",
    "df['Measure Performance Rate'].describe()"
   ]
  },
  {
   "cell_type": "code",
   "execution_count": 13,
   "metadata": {},
   "outputs": [
    {
     "data": {
      "text/html": [
       "<div>\n",
       "<style>\n",
       "    .dataframe thead tr:only-child th {\n",
       "        text-align: right;\n",
       "    }\n",
       "\n",
       "    .dataframe thead th {\n",
       "        text-align: left;\n",
       "    }\n",
       "\n",
       "    .dataframe tbody tr th {\n",
       "        vertical-align: top;\n",
       "    }\n",
       "</style>\n",
       "<table border=\"1\" class=\"dataframe\">\n",
       "  <thead>\n",
       "    <tr style=\"text-align: right;\">\n",
       "      <th></th>\n",
       "      <th>Total</th>\n",
       "      <th>Percent</th>\n",
       "    </tr>\n",
       "  </thead>\n",
       "  <tbody>\n",
       "    <tr>\n",
       "      <th>Footnote</th>\n",
       "      <td>3121</td>\n",
       "      <td>1.0</td>\n",
       "    </tr>\n",
       "    <tr>\n",
       "      <th>Measure Performance Rate</th>\n",
       "      <td>0</td>\n",
       "      <td>0.0</td>\n",
       "    </tr>\n",
       "    <tr>\n",
       "      <th>Measure Title</th>\n",
       "      <td>0</td>\n",
       "      <td>0.0</td>\n",
       "    </tr>\n",
       "    <tr>\n",
       "      <th>Measure Identifier</th>\n",
       "      <td>0</td>\n",
       "      <td>0.0</td>\n",
       "    </tr>\n",
       "    <tr>\n",
       "      <th>State</th>\n",
       "      <td>0</td>\n",
       "      <td>0.0</td>\n",
       "    </tr>\n",
       "    <tr>\n",
       "      <th>Group PAC ID</th>\n",
       "      <td>0</td>\n",
       "      <td>0.0</td>\n",
       "    </tr>\n",
       "    <tr>\n",
       "      <th>Organization legal name or 'doing business as' name</th>\n",
       "      <td>0</td>\n",
       "      <td>0.0</td>\n",
       "    </tr>\n",
       "  </tbody>\n",
       "</table>\n",
       "</div>"
      ],
      "text/plain": [
       "                                                    Total  Percent\n",
       "Footnote                                             3121      1.0\n",
       "Measure Performance Rate                                0      0.0\n",
       "Measure Title                                           0      0.0\n",
       "Measure Identifier                                      0      0.0\n",
       " State                                                  0      0.0\n",
       "Group PAC ID                                            0      0.0\n",
       "Organization legal name or 'doing business as' ...      0      0.0"
      ]
     },
     "execution_count": 13,
     "metadata": {},
     "output_type": "execute_result"
    }
   ],
   "source": [
    "#Here we are counting how many null values we have and putting that into a percentage. As we can\n",
    "#see for all of the footnotes that are missing, there is a measure performance rate. How can we \n",
    "#turn this into useful information\n",
    "\n",
    "total = df.isnull().sum().sort_values(ascending=False)\n",
    "percent = (df.isnull().sum()/df.isnull().count()).sort_values(ascending=False)\n",
    "missing_data = pd.concat([total, percent], axis=1, keys=['Total', 'Percent'])\n",
    "missing_data.head(20)"
   ]
  },
  {
   "cell_type": "code",
   "execution_count": 11,
   "metadata": {},
   "outputs": [],
   "source": [
    "#The footnote means the sample size was too small or unreliable to use their measure performance \n",
    "#I think we should just take the average performance rate because wee would be changing a little\n",
    "#Less than 10% "
   ]
  },
  {
   "cell_type": "code",
   "execution_count": 12,
   "metadata": {},
   "outputs": [],
   "source": [
    "df = df.dropna(subset=['Measure Performance Rate']) "
   ]
  },
  {
   "cell_type": "code",
   "execution_count": 15,
   "metadata": {},
   "outputs": [
    {
     "data": {
      "image/png": "[encoded data removed]",
      "text/plain": [
       "<matplotlib.figure.Figure at 0x10ac70fd0>"
      ]
     },
     "metadata": {},
     "output_type": "display_data"
    }
   ],
   "source": [
    "#Here we are making a distribution plot of measure performance rate by patient experience\n",
    "\n",
    "sns.distplot(df['Measure Performance Rate']);"
   ]
  },
  {
   "cell_type": "code",
   "execution_count": null,
   "metadata": {},
   "outputs": [],
   "source": []
  }
 ],
 "metadata": {
  "kernelspec": {
   "display_name": "Python 3",
   "language": "python",
   "name": "python3"
  },
  "language_info": {
   "codemirror_mode": {
    "name": "ipython",
    "version": 3
   },
   "file_extension": ".py",
   "mimetype": "text/x-python",
   "name": "python",
   "nbconvert_exporter": "python",
   "pygments_lexer": "ipython3",
   "version": "3.6.3"
  }
 },
 "nbformat": 4,
 "nbformat_minor": 2
}
